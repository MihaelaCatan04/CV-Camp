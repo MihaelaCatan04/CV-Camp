{
  "nbformat": 4,
  "nbformat_minor": 0,
  "metadata": {
    "colab": {
      "name": "CVC PY WS 3.ipynb",
      "provenance": [],
      "collapsed_sections": []
    },
    "kernelspec": {
      "name": "python3",
      "display_name": "Python 3"
    },
    "language_info": {
      "name": "python"
    }
  },
  "cells": [
    {
      "cell_type": "markdown",
      "metadata": {
        "id": "NKr5iapEoFIW"
      },
      "source": [
        "# Classwork\n"
      ]
    },
    {
      "cell_type": "code",
      "metadata": {
        "id": "25ZGzcBFoATW"
      },
      "source": [
        "def salutare(name):\n",
        "  print(\"Salut! Ma numesc \" + name)"
      ],
      "execution_count": 1,
      "outputs": []
    },
    {
      "cell_type": "code",
      "metadata": {
        "colab": {
          "base_uri": "https://localhost:8080/"
        },
        "id": "k_a_2LPJoAx1",
        "outputId": "4d52a364-7da7-49ee-83d5-1c03207dfa1e"
      },
      "source": [
        "salutare(\"Razvan\")"
      ],
      "execution_count": 2,
      "outputs": [
        {
          "output_type": "stream",
          "name": "stdout",
          "text": [
            "Salut! Ma numesc Razvan\n"
          ]
        }
      ]
    },
    {
      "cell_type": "code",
      "metadata": {
        "id": "oppaPT3WoPIS"
      },
      "source": [
        "def add(num1, num2):\n",
        "  suma = num1 + num2\n",
        "  return suma"
      ],
      "execution_count": 3,
      "outputs": []
    },
    {
      "cell_type": "code",
      "metadata": {
        "id": "buJhmfAnoT0G"
      },
      "source": [
        "i = add(3, 4) + 12"
      ],
      "execution_count": 4,
      "outputs": []
    },
    {
      "cell_type": "code",
      "metadata": {
        "colab": {
          "base_uri": "https://localhost:8080/"
        },
        "id": "EyyMtWjzoWz8",
        "outputId": "ba49015c-7ae1-48ef-c671-8c8be7e7f3e7"
      },
      "source": [
        "i"
      ],
      "execution_count": 5,
      "outputs": [
        {
          "output_type": "execute_result",
          "data": {
            "text/plain": [
              "19"
            ]
          },
          "metadata": {},
          "execution_count": 5
        }
      ]
    },
    {
      "cell_type": "code",
      "metadata": {
        "id": "Vk4EPGGToYE0"
      },
      "source": [
        "def add(num1, num2):\n",
        "  return num1 + num2"
      ],
      "execution_count": 6,
      "outputs": []
    },
    {
      "cell_type": "code",
      "metadata": {
        "id": "3ivClBrtobh8"
      },
      "source": [
        "i = add(3, 4) + 12"
      ],
      "execution_count": 7,
      "outputs": []
    },
    {
      "cell_type": "code",
      "metadata": {
        "colab": {
          "base_uri": "https://localhost:8080/"
        },
        "id": "HmnrsjFFodzi",
        "outputId": "2d013d2a-a3b0-4a71-d15f-1cdd62b15299"
      },
      "source": [
        "i"
      ],
      "execution_count": 8,
      "outputs": [
        {
          "output_type": "execute_result",
          "data": {
            "text/plain": [
              "19"
            ]
          },
          "metadata": {},
          "execution_count": 8
        }
      ]
    },
    {
      "cell_type": "code",
      "metadata": {
        "id": "wAycvFcnojFL"
      },
      "source": [
        "def make_tuple(num1, num2):\n",
        "  return (num1, num2)"
      ],
      "execution_count": 9,
      "outputs": []
    },
    {
      "cell_type": "code",
      "metadata": {
        "colab": {
          "base_uri": "https://localhost:8080/"
        },
        "id": "b4FumE8hoqnU",
        "outputId": "ca573743-f2c7-4ee9-d237-efebb8337d61"
      },
      "source": [
        "make_tuple(3, 4)"
      ],
      "execution_count": 10,
      "outputs": [
        {
          "output_type": "execute_result",
          "data": {
            "text/plain": [
              "(3, 4)"
            ]
          },
          "metadata": {},
          "execution_count": 10
        }
      ]
    },
    {
      "cell_type": "code",
      "metadata": {
        "id": "LGaVg07SpOXo"
      },
      "source": [
        "class Desk():\n",
        "  material = \"wood\"\n",
        "  length = 1\n",
        "  width = 1\n",
        "  def calc_area(self):\n",
        "    return self.length * self.width"
      ],
      "execution_count": 11,
      "outputs": []
    },
    {
      "cell_type": "code",
      "metadata": {
        "id": "0pWgOt1LpZVv"
      },
      "source": [
        "masa_nuc = Desk()"
      ],
      "execution_count": 12,
      "outputs": []
    },
    {
      "cell_type": "code",
      "metadata": {
        "id": "NLxWhYF-pb8j"
      },
      "source": [
        "masa_nuc.material = \"nuc\"\n",
        "masa_nuc.length = 300\n",
        "masa_nuc.width = 100"
      ],
      "execution_count": 13,
      "outputs": []
    },
    {
      "cell_type": "code",
      "metadata": {
        "colab": {
          "base_uri": "https://localhost:8080/"
        },
        "id": "EDWHWwKzprUH",
        "outputId": "67f6be06-ec76-436c-b07a-7c428129584b"
      },
      "source": [
        "print(masa_nuc.material)"
      ],
      "execution_count": 14,
      "outputs": [
        {
          "output_type": "stream",
          "name": "stdout",
          "text": [
            "nuc\n"
          ]
        }
      ]
    },
    {
      "cell_type": "code",
      "metadata": {
        "id": "O0gO60Umpxqk"
      },
      "source": [
        "class Desk():\n",
        "  def __init__(self, material, width, length):\n",
        "    self.material = material\n",
        "    self.width = width\n",
        "    self.length = length\n",
        "\n",
        "  def calc_area(self):\n",
        "    return self.length * self.width"
      ],
      "execution_count": 15,
      "outputs": []
    },
    {
      "cell_type": "code",
      "metadata": {
        "id": "KPqIgV8ErMTI"
      },
      "source": [
        "masa_stejar = Desk(\"Stejar\", 300, 200)"
      ],
      "execution_count": 16,
      "outputs": []
    },
    {
      "cell_type": "code",
      "metadata": {
        "colab": {
          "base_uri": "https://localhost:8080/",
          "height": 35
        },
        "id": "_I5Cj0cxrSCI",
        "outputId": "1c77d703-7738-43a9-9cad-4a8bbc7b0a89"
      },
      "source": [
        "masa_stejar.material"
      ],
      "execution_count": 17,
      "outputs": [
        {
          "output_type": "execute_result",
          "data": {
            "application/vnd.google.colaboratory.intrinsic+json": {
              "type": "string"
            },
            "text/plain": [
              "'Stejar'"
            ]
          },
          "metadata": {},
          "execution_count": 17
        }
      ]
    },
    {
      "cell_type": "code",
      "metadata": {
        "colab": {
          "base_uri": "https://localhost:8080/"
        },
        "id": "V0YdRndOrUc7",
        "outputId": "99d73cf2-e881-4c01-94bc-bad8fe5e7cbf"
      },
      "source": [
        "masa_stejar.length"
      ],
      "execution_count": 18,
      "outputs": [
        {
          "output_type": "execute_result",
          "data": {
            "text/plain": [
              "200"
            ]
          },
          "metadata": {},
          "execution_count": 18
        }
      ]
    },
    {
      "cell_type": "code",
      "metadata": {
        "id": "VJbqQ1zJr8QM"
      },
      "source": [
        "class Person():\n",
        "  def __init__(self, name, height, eye_color):\n",
        "    self.name = name\n",
        "    self.height = height\n",
        "    self.eye_color = eye_color\n",
        "    self._number_of_legs = 2\n",
        "    self.__secret = \"I wil not tell you my secret\"\n",
        "\n",
        "  def say_name(self):\n",
        "    print(\"Hello, my name is \" + self.name)\n",
        "\n",
        "  def sleep(self):\n",
        "    print(\"I am going to sleep now\")\n",
        "\n",
        "  def say_secret(self):\n",
        "    print(self.__secret)"
      ],
      "execution_count": 19,
      "outputs": []
    },
    {
      "cell_type": "code",
      "metadata": {
        "id": "7k76GkKUsT6E"
      },
      "source": [
        "class Student(Person):\n",
        "  def __init__(self, school_name = \"School\", name = \"Nume\", height = 100, eye_color = \"No eye color\"):\n",
        "    super().__init__(name, height, eye_color)\n",
        "    self.school_name = school_name\n",
        "    self._number_of_legs = 2\n",
        "    \n",
        "\n",
        "  def say_school_name(self):\n",
        "    print(\"Hello! I study at \" + self.school_name)\n",
        "\n",
        "  def sleep(self):  \n",
        "    print(\"I can't go to sleep now, I am studying\")\n",
        "\n",
        "  def say_number_of_legs(self):\n",
        "    print('I have ' + str(self._number_of_legs) + \" legs\")\n",
        "\n",
        "#THIS WILL NOT WORK\n",
        "  def say_secret(self):\n",
        "    print(self.__secret)\n",
        "  "
      ],
      "execution_count": 20,
      "outputs": []
    },
    {
      "cell_type": "code",
      "metadata": {
        "id": "MwoIyWlSwdCs"
      },
      "source": [
        "student1 = Student(\"UTM\", \"Razvan\", 175, \"blue\")"
      ],
      "execution_count": 21,
      "outputs": []
    },
    {
      "cell_type": "code",
      "metadata": {
        "colab": {
          "base_uri": "https://localhost:8080/"
        },
        "id": "kUsjyKm_sT_v",
        "outputId": "ed752395-10d2-4839-dddf-6fe721b5911c"
      },
      "source": [
        "student1.say_name()"
      ],
      "execution_count": 22,
      "outputs": [
        {
          "output_type": "stream",
          "name": "stdout",
          "text": [
            "Hello, my name is Razvan\n"
          ]
        }
      ]
    },
    {
      "cell_type": "code",
      "metadata": {
        "id": "MgGyJuFNxB5Q",
        "colab": {
          "base_uri": "https://localhost:8080/"
        },
        "outputId": "5f71844f-7275-4514-879b-e717f9409270"
      },
      "source": [
        "student1.say_number_of_legs()"
      ],
      "execution_count": 23,
      "outputs": [
        {
          "output_type": "stream",
          "name": "stdout",
          "text": [
            "I have 2 legs\n"
          ]
        }
      ]
    },
    {
      "cell_type": "code",
      "metadata": {
        "colab": {
          "base_uri": "https://localhost:8080/"
        },
        "id": "D09R_q4vCsQI",
        "outputId": "59dffd59-19cd-4eab-ff7a-22f333113a1c"
      },
      "source": [
        "student1._number_of_legs #nu atinge variabila daca nu esti in interioriul clasei"
      ],
      "execution_count": 24,
      "outputs": [
        {
          "output_type": "execute_result",
          "data": {
            "text/plain": [
              "2"
            ]
          },
          "metadata": {},
          "execution_count": 24
        }
      ]
    },
    {
      "cell_type": "code",
      "metadata": {
        "id": "jwhRmPIdC1ME"
      },
      "source": [
        "person1 = Person(\"Ion\", 180, \"brown\")"
      ],
      "execution_count": 25,
      "outputs": []
    },
    {
      "cell_type": "code",
      "metadata": {
        "colab": {
          "base_uri": "https://localhost:8080/"
        },
        "id": "rIP_ofYWC7rE",
        "outputId": "a2fda7ac-136d-492a-fad0-88ad70f62bab"
      },
      "source": [
        "person1._number_of_legs"
      ],
      "execution_count": 26,
      "outputs": [
        {
          "output_type": "execute_result",
          "data": {
            "text/plain": [
              "2"
            ]
          },
          "metadata": {},
          "execution_count": 26
        }
      ]
    },
    {
      "cell_type": "code",
      "metadata": {
        "id": "-8hA8_1wD-F5"
      },
      "source": [
        "#student1.say_secret() error"
      ],
      "execution_count": 27,
      "outputs": []
    },
    {
      "cell_type": "code",
      "metadata": {
        "id": "zASFFRtVELtY"
      },
      "source": [
        "#student1.__secret error"
      ],
      "execution_count": 28,
      "outputs": []
    },
    {
      "cell_type": "code",
      "metadata": {
        "colab": {
          "base_uri": "https://localhost:8080/"
        },
        "id": "CFGPfvLGFssk",
        "outputId": "16d0d8cb-a3f1-4868-ffb0-9fab3f509b77"
      },
      "source": [
        "person1.say_secret()"
      ],
      "execution_count": 29,
      "outputs": [
        {
          "output_type": "stream",
          "name": "stdout",
          "text": [
            "I wil not tell you my secret\n"
          ]
        }
      ]
    },
    {
      "cell_type": "code",
      "metadata": {
        "id": "oUhyRqpXGD1v"
      },
      "source": [
        "class_instances = (student1, person1)"
      ],
      "execution_count": 30,
      "outputs": []
    },
    {
      "cell_type": "code",
      "metadata": {
        "colab": {
          "base_uri": "https://localhost:8080/"
        },
        "id": "G5omkBPmGQuc",
        "outputId": "d5c18178-3647-4356-d95e-d384c8c41bdf"
      },
      "source": [
        "for individual in class_instances:\n",
        "  individual.sleep()"
      ],
      "execution_count": 31,
      "outputs": [
        {
          "output_type": "stream",
          "name": "stdout",
          "text": [
            "I can't go to sleep now, I am studying\n",
            "I am going to sleep now\n"
          ]
        }
      ]
    },
    {
      "cell_type": "code",
      "metadata": {
        "colab": {
          "base_uri": "https://localhost:8080/"
        },
        "id": "mv0MzLr6GZm7",
        "outputId": "61c1a3d6-d080-4de3-b346-b4bf027ece0b"
      },
      "source": [
        "for obj in (\"This is a sentence\", [1, 2, \"a\"]):\n",
        "  print(len(obj))"
      ],
      "execution_count": 32,
      "outputs": [
        {
          "output_type": "stream",
          "name": "stdout",
          "text": [
            "18\n",
            "3\n"
          ]
        }
      ]
    },
    {
      "cell_type": "code",
      "metadata": {
        "id": "OJtRPA7b90zG"
      },
      "source": [
        "#create a library\n",
        "#on local, put the lib file into the same folder as notebook"
      ],
      "execution_count": null,
      "outputs": []
    },
    {
      "cell_type": "code",
      "metadata": {
        "id": "zg91IxmCIFBd",
        "colab": {
          "base_uri": "https://localhost:8080/"
        },
        "outputId": "89dcfaac-3652-4353-a935-ab1a4d927542"
      },
      "source": [
        "from lib1 import circle_area\n",
        "circle_area(2)"
      ],
      "execution_count": 33,
      "outputs": [
        {
          "output_type": "execute_result",
          "data": {
            "text/plain": [
              "12.56"
            ]
          },
          "metadata": {},
          "execution_count": 33
        }
      ]
    },
    {
      "cell_type": "code",
      "metadata": {
        "id": "4yU9o4G6K8Jl",
        "colab": {
          "base_uri": "https://localhost:8080/"
        },
        "outputId": "dfd7c84c-5816-4791-9ff2-0b77b4c710f5"
      },
      "source": [
        "import lib1\n",
        "lib1.circle_area(2)"
      ],
      "execution_count": 42,
      "outputs": [
        {
          "output_type": "execute_result",
          "data": {
            "text/plain": [
              "12.56"
            ]
          },
          "metadata": {},
          "execution_count": 42
        }
      ]
    },
    {
      "cell_type": "code",
      "metadata": {
        "id": "NEGyEajuLRiB"
      },
      "source": [
        "#create a package"
      ],
      "execution_count": 35,
      "outputs": []
    },
    {
      "cell_type": "markdown",
      "metadata": {
        "id": "8hGErPtWOzI8"
      },
      "source": [
        "# Homework"
      ]
    },
    {
      "cell_type": "code",
      "metadata": {
        "id": "szIpFQ58O1l2"
      },
      "source": [
        "from datetime import date\n",
        "class Om:\n",
        "  def __init__(self, nume, prenume, anul_nasterii, inaltime, greutate):\n",
        "    self.nume = nume\n",
        "    self.prenume = prenume\n",
        "    self.anulNasterii = anul_nasterii\n",
        "    self.inaltime = inaltime\n",
        "    self.greutate = greutate\n",
        "  def calculeaza_varsta(self):\n",
        "    today = date.today()\n",
        "    return today.year - int(self.anulNasterii)\n",
        "  def respira(self):\n",
        "    print(\"Respira!\")\n",
        "  def este_om(self):\n",
        "    return True"
      ],
      "execution_count": 74,
      "outputs": []
    },
    {
      "cell_type": "code",
      "metadata": {
        "colab": {
          "base_uri": "https://localhost:8080/"
        },
        "id": "0_ubJS6uPFVn",
        "outputId": "5ece86ed-5bd4-42f2-dcaf-0adb896b3a8f"
      },
      "source": [
        "mihai = Om('Cimpoi', 'Mihai', 2004, 180, 70)\n",
        "print(mihai.calculeaza_varsta())\n",
        "mihai.respira()\n",
        "print(mihai.este_om())"
      ],
      "execution_count": 75,
      "outputs": [
        {
          "output_type": "stream",
          "name": "stdout",
          "text": [
            "17\n",
            "Respira!\n",
            "True\n"
          ]
        }
      ]
    },
    {
      "cell_type": "code",
      "metadata": {
        "id": "fVbfVaDDPJLJ"
      },
      "source": [
        "class Elevul(Om):\n",
        "  def __init__(self, nume, prenume, anul_nasterii, inaltime, greutate, clasa, nota_medie):\n",
        "    super().__init__(nume, prenume, anul_nasterii, inaltime, greutate)\n",
        "    self.Clasa = clasa\n",
        "    self.notaMedie = nota_medie\n",
        "  def este_eminent(self):\n",
        "    if self.notaMedie > 9:\n",
        "      return 'este eminent'\n",
        "    else:\n",
        "      return 'nu este eminent'\n",
        "  \n",
        "  def invata(self):\n",
        "    return True"
      ],
      "execution_count": 76,
      "outputs": []
    },
    {
      "cell_type": "code",
      "metadata": {
        "colab": {
          "base_uri": "https://localhost:8080/"
        },
        "id": "VVF8ndYOPND9",
        "outputId": "5327b307-b038-44a2-e6c9-2e57482c5bf7"
      },
      "source": [
        "mihai = Elevul('Cimpoi', 'Mihai', 2004, 180, 70, 10, 8)\n",
        "print(mihai.este_eminent())\n",
        "print(mihai.calculeaza_varsta())\n",
        "mihai.respira()\n",
        "print(mihai.invata())"
      ],
      "execution_count": 77,
      "outputs": [
        {
          "output_type": "stream",
          "name": "stdout",
          "text": [
            "nu este eminent\n",
            "17\n",
            "Respira!\n",
            "True\n"
          ]
        }
      ]
    },
    {
      "cell_type": "code",
      "metadata": {
        "id": "neD5mhsSPQVh"
      },
      "source": [
        "nr = 0\n",
        "class Profesor(Om):\n",
        "  def __init__(self, nume, prenume, anul_nasterii, inaltime, greutate, discipline, salariu):\n",
        "    super().__init__(nume, prenume, anul_nasterii, inaltime, greutate)\n",
        "    self.Discipline = discipline\n",
        "    self.Salariu = salariu\n",
        "  def salariuAnual(self):\n",
        "    return int(self.Salariu) * 12\n",
        "  def nr_discipline(self):\n",
        "    for i in self.Discipline:\n",
        "      global nr\n",
        "      nr += 1\n",
        "    return nr\n",
        "\n",
        "  def invata(self):\n",
        "    return False\n",
        "  \n",
        "  def preda(self):\n",
        "    return True"
      ],
      "execution_count": 78,
      "outputs": []
    },
    {
      "cell_type": "code",
      "metadata": {
        "colab": {
          "base_uri": "https://localhost:8080/"
        },
        "id": "_RxwVLMmPSrb",
        "outputId": "6173085e-5e25-435a-ad37-077967ca68f4"
      },
      "source": [
        "obiecte = ['romana', 'literatura universala']\n",
        "profesor = Profesor('Ana', 'Marian', 2000, 165, 50, obiecte, 4000)\n",
        "print(profesor.salariuAnual())\n",
        "print(profesor.nr_discipline())\n",
        "print(profesor.calculeaza_varsta())\n",
        "print(profesor.preda())\n",
        "print(profesor.este_om())"
      ],
      "execution_count": 79,
      "outputs": [
        {
          "output_type": "stream",
          "name": "stdout",
          "text": [
            "48000\n",
            "2\n",
            "21\n",
            "True\n",
            "True\n"
          ]
        }
      ]
    }
  ]
}