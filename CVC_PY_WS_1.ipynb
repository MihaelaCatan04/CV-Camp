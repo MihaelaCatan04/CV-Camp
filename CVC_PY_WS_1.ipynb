{
  "nbformat": 4,
  "nbformat_minor": 0,
  "metadata": {
    "colab": {
      "name": "CVC PY WS 1.ipynb",
      "provenance": [],
      "collapsed_sections": []
    },
    "kernelspec": {
      "name": "python3",
      "display_name": "Python 3"
    },
    "language_info": {
      "name": "python"
    }
  },
  "cells": [
    {
      "cell_type": "markdown",
      "metadata": {
        "id": "iXqoP33DtelT"
      },
      "source": [
        "# Classwork"
      ]
    },
    {
      "cell_type": "code",
      "metadata": {
        "colab": {
          "base_uri": "https://localhost:8080/"
        },
        "id": "CrzOrqJZWhaG",
        "outputId": "5fded32a-23da-4059-ca4f-b5271cf6b3c8"
      },
      "source": [
        "print(\"Hello\")"
      ],
      "execution_count": 19,
      "outputs": [
        {
          "output_type": "stream",
          "name": "stdout",
          "text": [
            "Hello\n"
          ]
        }
      ]
    },
    {
      "cell_type": "code",
      "metadata": {
        "colab": {
          "base_uri": "https://localhost:8080/"
        },
        "id": "2SjParHXWvFT",
        "outputId": "39c28c89-2b65-4259-becf-a31675479da0"
      },
      "source": [
        "print(\"Salut lume\")"
      ],
      "execution_count": 20,
      "outputs": [
        {
          "output_type": "stream",
          "name": "stdout",
          "text": [
            "Salut lume\n"
          ]
        }
      ]
    },
    {
      "cell_type": "code",
      "metadata": {
        "id": "U5q5kE2PYXlk"
      },
      "source": [
        "b = 10"
      ],
      "execution_count": 21,
      "outputs": []
    },
    {
      "cell_type": "code",
      "metadata": {
        "id": "-QfKB2f1YZt7"
      },
      "source": [
        "nume = \"Mihaela\""
      ],
      "execution_count": 22,
      "outputs": []
    },
    {
      "cell_type": "code",
      "metadata": {
        "id": "o5tO9fjbYbZn"
      },
      "source": [
        "f = 8.71111"
      ],
      "execution_count": 23,
      "outputs": []
    },
    {
      "cell_type": "code",
      "metadata": {
        "id": "3AazwcX3YfAm"
      },
      "source": [
        "a = 11.11\n",
        "b = 5"
      ],
      "execution_count": 24,
      "outputs": []
    },
    {
      "cell_type": "code",
      "metadata": {
        "colab": {
          "base_uri": "https://localhost:8080/"
        },
        "id": "rehx11JbYheo",
        "outputId": "d4c809d5-bfbc-43c4-f3fd-588b37a819f6"
      },
      "source": [
        "a / b"
      ],
      "execution_count": 25,
      "outputs": [
        {
          "output_type": "execute_result",
          "data": {
            "text/plain": [
              "2.222"
            ]
          },
          "metadata": {},
          "execution_count": 25
        }
      ]
    },
    {
      "cell_type": "code",
      "metadata": {
        "colab": {
          "base_uri": "https://localhost:8080/"
        },
        "id": "Xfz97safYkyv",
        "outputId": "28495b0d-1ff0-4237-806c-045d01edb34b"
      },
      "source": [
        "a + b"
      ],
      "execution_count": 26,
      "outputs": [
        {
          "output_type": "execute_result",
          "data": {
            "text/plain": [
              "16.11"
            ]
          },
          "metadata": {},
          "execution_count": 26
        }
      ]
    },
    {
      "cell_type": "code",
      "metadata": {
        "colab": {
          "base_uri": "https://localhost:8080/"
        },
        "id": "bk5ep3PPYpvw",
        "outputId": "bc264ce3-223f-4a48-8f6b-dfc01e3048e5"
      },
      "source": [
        "a - b"
      ],
      "execution_count": 27,
      "outputs": [
        {
          "output_type": "execute_result",
          "data": {
            "text/plain": [
              "6.109999999999999"
            ]
          },
          "metadata": {},
          "execution_count": 27
        }
      ]
    },
    {
      "cell_type": "code",
      "metadata": {
        "colab": {
          "base_uri": "https://localhost:8080/"
        },
        "id": "rwLexBcYYpdn",
        "outputId": "850d616b-31e6-43e3-9a80-446fcfc6d932"
      },
      "source": [
        "a * b"
      ],
      "execution_count": 28,
      "outputs": [
        {
          "output_type": "execute_result",
          "data": {
            "text/plain": [
              "55.55"
            ]
          },
          "metadata": {},
          "execution_count": 28
        }
      ]
    },
    {
      "cell_type": "code",
      "metadata": {
        "colab": {
          "base_uri": "https://localhost:8080/"
        },
        "id": "c2dMrrNRZQUA",
        "outputId": "5b662d02-124c-4dd3-dbfc-f50a73a4db81"
      },
      "source": [
        "a // b"
      ],
      "execution_count": 29,
      "outputs": [
        {
          "output_type": "execute_result",
          "data": {
            "text/plain": [
              "2.0"
            ]
          },
          "metadata": {},
          "execution_count": 29
        }
      ]
    },
    {
      "cell_type": "code",
      "metadata": {
        "colab": {
          "base_uri": "https://localhost:8080/"
        },
        "id": "sOqX58wkZYzG",
        "outputId": "afd57263-af07-4f62-f83b-4ebf3cc37a74"
      },
      "source": [
        "a"
      ],
      "execution_count": 30,
      "outputs": [
        {
          "output_type": "execute_result",
          "data": {
            "text/plain": [
              "11.11"
            ]
          },
          "metadata": {},
          "execution_count": 30
        }
      ]
    },
    {
      "cell_type": "code",
      "metadata": {
        "id": "g8E3w3PTZfRq"
      },
      "source": [
        "propozitie = \"Bine ati venit la Computer Vision Camp!\""
      ],
      "execution_count": 31,
      "outputs": []
    },
    {
      "cell_type": "code",
      "metadata": {
        "id": "uwuVSlshZilL"
      },
      "source": [
        "propozitie2 = \"Eu sunt Mihaela!\""
      ],
      "execution_count": 32,
      "outputs": []
    },
    {
      "cell_type": "code",
      "metadata": {
        "colab": {
          "base_uri": "https://localhost:8080/",
          "height": 35
        },
        "id": "MLvkbc1vZpvZ",
        "outputId": "f21e7abe-537d-40a9-e330-c9eb98a609f2"
      },
      "source": [
        "propozitie + propozitie2"
      ],
      "execution_count": 33,
      "outputs": [
        {
          "output_type": "execute_result",
          "data": {
            "application/vnd.google.colaboratory.intrinsic+json": {
              "type": "string"
            },
            "text/plain": [
              "'Bine ati venit la Computer Vision Camp!Eu sunt Mihaela!'"
            ]
          },
          "metadata": {},
          "execution_count": 33
        }
      ]
    },
    {
      "cell_type": "code",
      "metadata": {
        "id": "wCzykcgKZ58V"
      },
      "source": [
        "propozitie = propozitie + propozitie2"
      ],
      "execution_count": 34,
      "outputs": []
    },
    {
      "cell_type": "code",
      "metadata": {
        "colab": {
          "base_uri": "https://localhost:8080/",
          "height": 35
        },
        "id": "9xVNzqkFZ7w1",
        "outputId": "af3aa333-a3bf-4b15-e9cb-d5095b47fee6"
      },
      "source": [
        "propozitie"
      ],
      "execution_count": 35,
      "outputs": [
        {
          "output_type": "execute_result",
          "data": {
            "application/vnd.google.colaboratory.intrinsic+json": {
              "type": "string"
            },
            "text/plain": [
              "'Bine ati venit la Computer Vision Camp!Eu sunt Mihaela!'"
            ]
          },
          "metadata": {},
          "execution_count": 35
        }
      ]
    },
    {
      "cell_type": "code",
      "metadata": {
        "colab": {
          "base_uri": "https://localhost:8080/",
          "height": 35
        },
        "id": "JAB4LvEcZ85X",
        "outputId": "0b5ceb8c-dd67-4c34-e731-1b16b13c1728"
      },
      "source": [
        " propozitie.upper()"
      ],
      "execution_count": 36,
      "outputs": [
        {
          "output_type": "execute_result",
          "data": {
            "application/vnd.google.colaboratory.intrinsic+json": {
              "type": "string"
            },
            "text/plain": [
              "'BINE ATI VENIT LA COMPUTER VISION CAMP!EU SUNT MIHAELA!'"
            ]
          },
          "metadata": {},
          "execution_count": 36
        }
      ]
    },
    {
      "cell_type": "code",
      "metadata": {
        "colab": {
          "base_uri": "https://localhost:8080/",
          "height": 35
        },
        "id": "hkYto8bAaG6v",
        "outputId": "fae12b7d-5007-44ef-82c0-04f90f8d8d30"
      },
      "source": [
        "propozitie"
      ],
      "execution_count": 37,
      "outputs": [
        {
          "output_type": "execute_result",
          "data": {
            "application/vnd.google.colaboratory.intrinsic+json": {
              "type": "string"
            },
            "text/plain": [
              "'Bine ati venit la Computer Vision Camp!Eu sunt Mihaela!'"
            ]
          },
          "metadata": {},
          "execution_count": 37
        }
      ]
    },
    {
      "cell_type": "code",
      "metadata": {
        "id": "RV8WJ2AsaIdh"
      },
      "source": [
        "propozitie_upper = propozitie.upper()"
      ],
      "execution_count": 38,
      "outputs": []
    },
    {
      "cell_type": "code",
      "metadata": {
        "colab": {
          "base_uri": "https://localhost:8080/",
          "height": 35
        },
        "id": "-c9y29DGaSPm",
        "outputId": "57041b24-05a1-4507-f2a8-3f89c0d05a5f"
      },
      "source": [
        "propozitie_upper"
      ],
      "execution_count": 39,
      "outputs": [
        {
          "output_type": "execute_result",
          "data": {
            "application/vnd.google.colaboratory.intrinsic+json": {
              "type": "string"
            },
            "text/plain": [
              "'BINE ATI VENIT LA COMPUTER VISION CAMP!EU SUNT MIHAELA!'"
            ]
          },
          "metadata": {},
          "execution_count": 39
        }
      ]
    },
    {
      "cell_type": "code",
      "metadata": {
        "colab": {
          "base_uri": "https://localhost:8080/",
          "height": 35
        },
        "id": "HQbJ-l3HahFh",
        "outputId": "4d87b5e1-ca4b-43c6-c60e-6ca49e065449"
      },
      "source": [
        "propozitie.casefold()"
      ],
      "execution_count": 40,
      "outputs": [
        {
          "output_type": "execute_result",
          "data": {
            "application/vnd.google.colaboratory.intrinsic+json": {
              "type": "string"
            },
            "text/plain": [
              "'bine ati venit la computer vision camp!eu sunt mihaela!'"
            ]
          },
          "metadata": {},
          "execution_count": 40
        }
      ]
    },
    {
      "cell_type": "code",
      "metadata": {
        "colab": {
          "base_uri": "https://localhost:8080/"
        },
        "id": "9NksADJsaozU",
        "outputId": "de1c7c49-c3b0-4c1f-a98d-802d34c7a103"
      },
      "source": [
        "propozitie.count(\"a\")"
      ],
      "execution_count": 41,
      "outputs": [
        {
          "output_type": "execute_result",
          "data": {
            "text/plain": [
              "5"
            ]
          },
          "metadata": {},
          "execution_count": 41
        }
      ]
    },
    {
      "cell_type": "code",
      "metadata": {
        "id": "25gheU7aa5jq"
      },
      "source": [
        "salut = \"Salut Vova! Salut Vasile!\""
      ],
      "execution_count": 42,
      "outputs": []
    },
    {
      "cell_type": "code",
      "metadata": {
        "colab": {
          "base_uri": "https://localhost:8080/"
        },
        "id": "6meXNYlNbAR4",
        "outputId": "e114663b-b868-4f9b-bbce-b26c9a955ee2"
      },
      "source": [
        "s = \"Salut\"\n",
        "salut.count(s)"
      ],
      "execution_count": 43,
      "outputs": [
        {
          "output_type": "execute_result",
          "data": {
            "text/plain": [
              "2"
            ]
          },
          "metadata": {},
          "execution_count": 43
        }
      ]
    },
    {
      "cell_type": "code",
      "metadata": {
        "colab": {
          "base_uri": "https://localhost:8080/"
        },
        "id": "AWfTcwu1bDwt",
        "outputId": "a08da8ce-9e68-4487-c30e-38204879eb28"
      },
      "source": [
        "salut.find(\"Salut\")"
      ],
      "execution_count": 44,
      "outputs": [
        {
          "output_type": "execute_result",
          "data": {
            "text/plain": [
              "0"
            ]
          },
          "metadata": {},
          "execution_count": 44
        }
      ]
    },
    {
      "cell_type": "code",
      "metadata": {
        "id": "jaaLLAh5cXuq"
      },
      "source": [
        "lista1 = [1, 2, 3, 4, 7, 8, 10, 11, 10]"
      ],
      "execution_count": 45,
      "outputs": []
    },
    {
      "cell_type": "code",
      "metadata": {
        "id": "S8_0OUXPcg_m"
      },
      "source": [
        "lista2 = [\"String\", 1, 2 ,3.14, [0, 1]]"
      ],
      "execution_count": 46,
      "outputs": []
    },
    {
      "cell_type": "code",
      "metadata": {
        "colab": {
          "base_uri": "https://localhost:8080/"
        },
        "id": "NIvNgZEEdcXd",
        "outputId": "57624ebd-caa5-45cb-800a-8d1d1a2d3008"
      },
      "source": [
        "lista1[0]"
      ],
      "execution_count": 47,
      "outputs": [
        {
          "output_type": "execute_result",
          "data": {
            "text/plain": [
              "1"
            ]
          },
          "metadata": {},
          "execution_count": 47
        }
      ]
    },
    {
      "cell_type": "code",
      "metadata": {
        "colab": {
          "base_uri": "https://localhost:8080/"
        },
        "id": "5ERT-I-0e2Ns",
        "outputId": "7e619c6e-7746-407e-d966-2ad396e7d8fe"
      },
      "source": [
        "lista1[-3]"
      ],
      "execution_count": 48,
      "outputs": [
        {
          "output_type": "execute_result",
          "data": {
            "text/plain": [
              "10"
            ]
          },
          "metadata": {},
          "execution_count": 48
        }
      ]
    },
    {
      "cell_type": "code",
      "metadata": {
        "colab": {
          "base_uri": "https://localhost:8080/"
        },
        "id": "pAuxgFs-f0up",
        "outputId": "9ba25dbe-6ac3-4a34-cad7-da5a22a5a22d"
      },
      "source": [
        "lista1[0:4:2] #pasul 2"
      ],
      "execution_count": 49,
      "outputs": [
        {
          "output_type": "execute_result",
          "data": {
            "text/plain": [
              "[1, 3]"
            ]
          },
          "metadata": {},
          "execution_count": 49
        }
      ]
    },
    {
      "cell_type": "code",
      "metadata": {
        "id": "V-xDJXqmgWll"
      },
      "source": [
        "a = {1, 3, 4, 5, 5}"
      ],
      "execution_count": 50,
      "outputs": []
    },
    {
      "cell_type": "code",
      "metadata": {
        "colab": {
          "base_uri": "https://localhost:8080/"
        },
        "id": "cUdK9JBegZSk",
        "outputId": "40797c42-6315-4ee8-c0f6-1ef99aa95e9a"
      },
      "source": [
        "a"
      ],
      "execution_count": 51,
      "outputs": [
        {
          "output_type": "execute_result",
          "data": {
            "text/plain": [
              "{1, 3, 4, 5}"
            ]
          },
          "metadata": {},
          "execution_count": 51
        }
      ]
    },
    {
      "cell_type": "code",
      "metadata": {
        "id": "7rh7A0BnghK1"
      },
      "source": [
        "#a[0] = 5 #'set' object does not support item assignment"
      ],
      "execution_count": 52,
      "outputs": []
    },
    {
      "cell_type": "code",
      "metadata": {
        "colab": {
          "base_uri": "https://localhost:8080/"
        },
        "id": "cU6WiYuUgiOf",
        "outputId": "f67ff2ed-f1d4-4263-efeb-74c28123d88d"
      },
      "source": [
        "5 in a"
      ],
      "execution_count": 53,
      "outputs": [
        {
          "output_type": "execute_result",
          "data": {
            "text/plain": [
              "True"
            ]
          },
          "metadata": {},
          "execution_count": 53
        }
      ]
    },
    {
      "cell_type": "code",
      "metadata": {
        "colab": {
          "base_uri": "https://localhost:8080/"
        },
        "id": "pTH01UHNhRkx",
        "outputId": "b2dfa833-e62f-4a93-db68-7fc7bb554390"
      },
      "source": [
        "-1 in a "
      ],
      "execution_count": 54,
      "outputs": [
        {
          "output_type": "execute_result",
          "data": {
            "text/plain": [
              "False"
            ]
          },
          "metadata": {},
          "execution_count": 54
        }
      ]
    },
    {
      "cell_type": "code",
      "metadata": {
        "colab": {
          "base_uri": "https://localhost:8080/"
        },
        "id": "jL567TBwhV00",
        "outputId": "af7d20c9-3ea2-46df-acee-5330baa8f2d8"
      },
      "source": [
        "isina = -1 in a\n",
        "print(isina)"
      ],
      "execution_count": 55,
      "outputs": [
        {
          "output_type": "stream",
          "name": "stdout",
          "text": [
            "False\n"
          ]
        }
      ]
    },
    {
      "cell_type": "code",
      "metadata": {
        "id": "gzCprSXghvgn"
      },
      "source": [
        "t = (1, 2, 100, 101 )"
      ],
      "execution_count": 56,
      "outputs": []
    },
    {
      "cell_type": "code",
      "metadata": {
        "colab": {
          "base_uri": "https://localhost:8080/"
        },
        "id": "KiWodyJGiS8m",
        "outputId": "5e3e2eae-7e47-49b8-c2ea-36105751705d"
      },
      "source": [
        "t[2]"
      ],
      "execution_count": 57,
      "outputs": [
        {
          "output_type": "execute_result",
          "data": {
            "text/plain": [
              "100"
            ]
          },
          "metadata": {},
          "execution_count": 57
        }
      ]
    },
    {
      "cell_type": "code",
      "metadata": {
        "id": "7diKThk9ifXr"
      },
      "source": [
        "#t[2] = 100 #'tuple' object does not support item assignment"
      ],
      "execution_count": 58,
      "outputs": []
    },
    {
      "cell_type": "code",
      "metadata": {
        "id": "OHr6kM_PjbWN"
      },
      "source": [
        "lista1[0] = 10000"
      ],
      "execution_count": 59,
      "outputs": []
    },
    {
      "cell_type": "code",
      "metadata": {
        "colab": {
          "base_uri": "https://localhost:8080/"
        },
        "id": "QTSDEz9jjg3z",
        "outputId": "5a9e87bd-5544-46bc-813f-7985c5ec9faf"
      },
      "source": [
        "lista1"
      ],
      "execution_count": 60,
      "outputs": [
        {
          "output_type": "execute_result",
          "data": {
            "text/plain": [
              "[10000, 2, 3, 4, 7, 8, 10, 11, 10]"
            ]
          },
          "metadata": {},
          "execution_count": 60
        }
      ]
    },
    {
      "cell_type": "code",
      "metadata": {
        "colab": {
          "base_uri": "https://localhost:8080/"
        },
        "id": "rxKnjdZ2jiFF",
        "outputId": "c2c06a4a-44db-4108-cf1d-fdeece5e3ba3"
      },
      "source": [
        "t = list(t)\n",
        "t"
      ],
      "execution_count": 61,
      "outputs": [
        {
          "output_type": "execute_result",
          "data": {
            "text/plain": [
              "[1, 2, 100, 101]"
            ]
          },
          "metadata": {},
          "execution_count": 61
        }
      ]
    },
    {
      "cell_type": "code",
      "metadata": {
        "id": "DqpTQBRXjsIR"
      },
      "source": [
        "t[1] = t[1] + 1"
      ],
      "execution_count": 62,
      "outputs": []
    },
    {
      "cell_type": "code",
      "metadata": {
        "colab": {
          "base_uri": "https://localhost:8080/"
        },
        "id": "9fRe1GppjxmD",
        "outputId": "7cfffa97-358e-4c79-8aba-45c6b6c08347"
      },
      "source": [
        "t[1]"
      ],
      "execution_count": 63,
      "outputs": [
        {
          "output_type": "execute_result",
          "data": {
            "text/plain": [
              "3"
            ]
          },
          "metadata": {},
          "execution_count": 63
        }
      ]
    },
    {
      "cell_type": "code",
      "metadata": {
        "id": "O2BZeu5pj3vP"
      },
      "source": [
        "t = tuple(t)"
      ],
      "execution_count": 64,
      "outputs": []
    },
    {
      "cell_type": "code",
      "metadata": {
        "id": "XyBwEpYYkR3z"
      },
      "source": [
        "nota = 8"
      ],
      "execution_count": 65,
      "outputs": []
    },
    {
      "cell_type": "code",
      "metadata": {
        "colab": {
          "base_uri": "https://localhost:8080/"
        },
        "id": "EfJ7514BrAwA",
        "outputId": "491e8436-08dc-44f6-8953-10874ae1704d"
      },
      "source": [
        "if nota >= 5:\n",
        "  print(\"Admis\")\n",
        "else:\n",
        "  print(\"Respins\")"
      ],
      "execution_count": 66,
      "outputs": [
        {
          "output_type": "stream",
          "name": "stdout",
          "text": [
            "Admis\n"
          ]
        }
      ]
    },
    {
      "cell_type": "code",
      "metadata": {
        "colab": {
          "base_uri": "https://localhost:8080/"
        },
        "id": "IEGunCdHrYER",
        "outputId": "d04139d1-c976-4705-ecef-00d35385d9b0"
      },
      "source": [
        "if nota >= 9:\n",
        "  print(\"Eminent\")\n",
        "elif nota >= 7:\n",
        "  print(\"Fruntas\")\n",
        "else:\n",
        "  print(\"Codas\")"
      ],
      "execution_count": 67,
      "outputs": [
        {
          "output_type": "stream",
          "name": "stdout",
          "text": [
            "Fruntas\n"
          ]
        }
      ]
    },
    {
      "cell_type": "code",
      "metadata": {
        "id": "42lOL41Qr9wH"
      },
      "source": [
        "note = [5, 7, 8, 9, 9, 10, 7]"
      ],
      "execution_count": 68,
      "outputs": []
    },
    {
      "cell_type": "code",
      "metadata": {
        "colab": {
          "base_uri": "https://localhost:8080/"
        },
        "id": "PQXXpsKesDgV",
        "outputId": "c788085d-619a-4579-d315-f9370ec6896e"
      },
      "source": [
        "len_note = len(note)\n",
        "print(len_note)"
      ],
      "execution_count": 69,
      "outputs": [
        {
          "output_type": "stream",
          "name": "stdout",
          "text": [
            "7\n"
          ]
        }
      ]
    },
    {
      "cell_type": "code",
      "metadata": {
        "id": "BP3kCXmcsknO"
      },
      "source": [
        "suma = 0\n",
        "for i in range(len_note):\n",
        "  suma += note[i]"
      ],
      "execution_count": 70,
      "outputs": []
    },
    {
      "cell_type": "code",
      "metadata": {
        "colab": {
          "base_uri": "https://localhost:8080/"
        },
        "id": "SnVGmKuzsxbf",
        "outputId": "5024754f-b6b2-481b-efc1-7900c0b22664"
      },
      "source": [
        "medie = suma / len(note)\n",
        "medie"
      ],
      "execution_count": 71,
      "outputs": [
        {
          "output_type": "execute_result",
          "data": {
            "text/plain": [
              "7.857142857142857"
            ]
          },
          "metadata": {},
          "execution_count": 71
        }
      ]
    },
    {
      "cell_type": "code",
      "metadata": {
        "id": "eKFgDVf3s7bI"
      },
      "source": [
        "suma = 0\n",
        "for nota in note:\n",
        "  suma += nota"
      ],
      "execution_count": 72,
      "outputs": []
    },
    {
      "cell_type": "code",
      "metadata": {
        "id": "gqmzWvLes-rz"
      },
      "source": [
        "medie = suma / len(note)"
      ],
      "execution_count": 73,
      "outputs": []
    },
    {
      "cell_type": "code",
      "metadata": {
        "colab": {
          "base_uri": "https://localhost:8080/"
        },
        "id": "ga3SmCt3tG1t",
        "outputId": "e5381644-6e03-4570-d060-893c52b50243"
      },
      "source": [
        "medie"
      ],
      "execution_count": 74,
      "outputs": [
        {
          "output_type": "execute_result",
          "data": {
            "text/plain": [
              "7.857142857142857"
            ]
          },
          "metadata": {},
          "execution_count": 74
        }
      ]
    },
    {
      "cell_type": "code",
      "metadata": {
        "id": "WFgtr5LpXRyi"
      },
      "source": [
        "elev = {1 : \"Razvan\", \"Age\" : 20, \"Place of work\" : \"Sigmoid\"}"
      ],
      "execution_count": 75,
      "outputs": []
    },
    {
      "cell_type": "code",
      "metadata": {
        "colab": {
          "base_uri": "https://localhost:8080/"
        },
        "id": "8BdUgTMxYRLL",
        "outputId": "c8f71d1a-b050-47fd-d052-277fa0e7a7ed"
      },
      "source": [
        "elev[\"Age\"] += 1\n",
        "elev[\"Age\"]"
      ],
      "execution_count": 76,
      "outputs": [
        {
          "output_type": "execute_result",
          "data": {
            "text/plain": [
              "21"
            ]
          },
          "metadata": {},
          "execution_count": 76
        }
      ]
    },
    {
      "cell_type": "code",
      "metadata": {
        "id": "NPNccK-PYViH"
      },
      "source": [
        "elev[\"Height\"] = 2"
      ],
      "execution_count": 77,
      "outputs": []
    },
    {
      "cell_type": "code",
      "metadata": {
        "colab": {
          "base_uri": "https://localhost:8080/"
        },
        "id": "4feSg7nkYZ8N",
        "outputId": "b1852ccb-2d43-4dc5-f768-d6128102d03f"
      },
      "source": [
        "elev"
      ],
      "execution_count": 78,
      "outputs": [
        {
          "output_type": "execute_result",
          "data": {
            "text/plain": [
              "{1: 'Razvan', 'Age': 21, 'Height': 2, 'Place of work': 'Sigmoid'}"
            ]
          },
          "metadata": {},
          "execution_count": 78
        }
      ]
    },
    {
      "cell_type": "code",
      "metadata": {
        "colab": {
          "base_uri": "https://localhost:8080/"
        },
        "id": "Lrnyv8CJYbJ0",
        "outputId": "302a2976-3795-4ad5-8f21-7d2367f27a63"
      },
      "source": [
        "elev.pop(\"Height\")"
      ],
      "execution_count": 79,
      "outputs": [
        {
          "output_type": "execute_result",
          "data": {
            "text/plain": [
              "2"
            ]
          },
          "metadata": {},
          "execution_count": 79
        }
      ]
    },
    {
      "cell_type": "code",
      "metadata": {
        "colab": {
          "base_uri": "https://localhost:8080/"
        },
        "id": "R5XuSreGYfgi",
        "outputId": "5134b7eb-b655-4890-99df-f8013b2ab6ce"
      },
      "source": [
        "elev"
      ],
      "execution_count": 80,
      "outputs": [
        {
          "output_type": "execute_result",
          "data": {
            "text/plain": [
              "{1: 'Razvan', 'Age': 21, 'Place of work': 'Sigmoid'}"
            ]
          },
          "metadata": {},
          "execution_count": 80
        }
      ]
    },
    {
      "cell_type": "code",
      "metadata": {
        "id": "h5oU1JzuYimo"
      },
      "source": [
        "text = \"We few, we happy few, we band of brothers;\""
      ],
      "execution_count": 81,
      "outputs": []
    },
    {
      "cell_type": "code",
      "metadata": {
        "colab": {
          "base_uri": "https://localhost:8080/"
        },
        "id": "wsG6G1AuY58i",
        "outputId": "986e963e-ddb0-48a4-aa7e-e8194dc6f10f"
      },
      "source": [
        "word_list = text.split()\n",
        "word_list"
      ],
      "execution_count": 82,
      "outputs": [
        {
          "output_type": "execute_result",
          "data": {
            "text/plain": [
              "['We', 'few,', 'we', 'happy', 'few,', 'we', 'band', 'of', 'brothers;']"
            ]
          },
          "metadata": {},
          "execution_count": 82
        }
      ]
    },
    {
      "cell_type": "code",
      "metadata": {
        "colab": {
          "base_uri": "https://localhost:8080/",
          "height": 35
        },
        "id": "5g-t5vesZaW4",
        "outputId": "a794e5dd-ebd0-40f6-abc0-bc76aa48f924"
      },
      "source": [
        "text = text.replace(\",\", \"\").replace(\";\", \"\")\n",
        "text"
      ],
      "execution_count": 83,
      "outputs": [
        {
          "output_type": "execute_result",
          "data": {
            "application/vnd.google.colaboratory.intrinsic+json": {
              "type": "string"
            },
            "text/plain": [
              "'We few we happy few we band of brothers'"
            ]
          },
          "metadata": {},
          "execution_count": 83
        }
      ]
    },
    {
      "cell_type": "code",
      "metadata": {
        "colab": {
          "base_uri": "https://localhost:8080/",
          "height": 35
        },
        "id": "B3IzeKDqZlnN",
        "outputId": "e9ea66fb-a17d-415f-8cab-c29a7c04c3e1"
      },
      "source": [
        "text = text.casefold()\n",
        "text"
      ],
      "execution_count": 84,
      "outputs": [
        {
          "output_type": "execute_result",
          "data": {
            "application/vnd.google.colaboratory.intrinsic+json": {
              "type": "string"
            },
            "text/plain": [
              "'we few we happy few we band of brothers'"
            ]
          },
          "metadata": {},
          "execution_count": 84
        }
      ]
    },
    {
      "cell_type": "code",
      "metadata": {
        "colab": {
          "base_uri": "https://localhost:8080/"
        },
        "id": "iOF2QjclZpHu",
        "outputId": "9223206a-f6a6-466f-e68d-5d16bf8252c0"
      },
      "source": [
        "word_list2 = text.split()\n",
        "word_list2"
      ],
      "execution_count": 85,
      "outputs": [
        {
          "output_type": "execute_result",
          "data": {
            "text/plain": [
              "['we', 'few', 'we', 'happy', 'few', 'we', 'band', 'of', 'brothers']"
            ]
          },
          "metadata": {},
          "execution_count": 85
        }
      ]
    },
    {
      "cell_type": "code",
      "metadata": {
        "id": "Fl1UolmKaqxj"
      },
      "source": [
        "words = {}\n",
        "\n",
        "for word in word_list2:\n",
        "  if word not in words.keys():\n",
        "    words[word] = 1\n",
        "  else:\n",
        "    words[word] += 1"
      ],
      "execution_count": 86,
      "outputs": []
    },
    {
      "cell_type": "code",
      "metadata": {
        "colab": {
          "base_uri": "https://localhost:8080/"
        },
        "id": "f7V1QoLZa4vW",
        "outputId": "ea0b53fd-3b8a-4379-9409-130db84ef8ba"
      },
      "source": [
        "words"
      ],
      "execution_count": 87,
      "outputs": [
        {
          "output_type": "execute_result",
          "data": {
            "text/plain": [
              "{'band': 1, 'brothers': 1, 'few': 2, 'happy': 1, 'of': 1, 'we': 3}"
            ]
          },
          "metadata": {},
          "execution_count": 87
        }
      ]
    },
    {
      "cell_type": "code",
      "metadata": {
        "id": "4eFZLaBkbBLb"
      },
      "source": [
        "elevi_note = [[9, 10 ,8], \n",
        "              [7, 4, 5], \n",
        "              [8, 8, 8]]"
      ],
      "execution_count": 88,
      "outputs": []
    },
    {
      "cell_type": "code",
      "metadata": {
        "id": "mQ4OaVQTbOUY"
      },
      "source": [
        "elevi_note[-1][0] = 10"
      ],
      "execution_count": 89,
      "outputs": []
    },
    {
      "cell_type": "code",
      "metadata": {
        "colab": {
          "base_uri": "https://localhost:8080/"
        },
        "id": "QBvTAM-5bUiD",
        "outputId": "97def90d-54ab-474d-d2fa-bce1fc977e7f"
      },
      "source": [
        "elevi_note"
      ],
      "execution_count": 90,
      "outputs": [
        {
          "output_type": "execute_result",
          "data": {
            "text/plain": [
              "[[9, 10, 8], [7, 4, 5], [10, 8, 8]]"
            ]
          },
          "metadata": {},
          "execution_count": 90
        }
      ]
    },
    {
      "cell_type": "code",
      "metadata": {
        "id": "9UX1jj_QbYTL"
      },
      "source": [
        "elevi_note += [[10, 10, 10, 10]]"
      ],
      "execution_count": 91,
      "outputs": []
    },
    {
      "cell_type": "code",
      "metadata": {
        "colab": {
          "base_uri": "https://localhost:8080/"
        },
        "id": "loyTOEknbpo2",
        "outputId": "cfa7515b-a0d3-421e-8811-41f46d5e2d99"
      },
      "source": [
        "elevi_note"
      ],
      "execution_count": 92,
      "outputs": [
        {
          "output_type": "execute_result",
          "data": {
            "text/plain": [
              "[[9, 10, 8], [7, 4, 5], [10, 8, 8], [10, 10, 10, 10]]"
            ]
          },
          "metadata": {},
          "execution_count": 92
        }
      ]
    },
    {
      "cell_type": "markdown",
      "metadata": {
        "id": "SPxQ8L08b2xs"
      },
      "source": [
        "# Homework"
      ]
    },
    {
      "cell_type": "code",
      "metadata": {
        "id": "P7kdtVMlb62Z",
        "colab": {
          "base_uri": "https://localhost:8080/"
        },
        "outputId": "342ef438-1245-427e-9db4-2e637a34655e"
      },
      "source": [
        "year= input(\"Please insert your year here:\")\n",
        "month = input(\"Please insert your month as a number here:\")\n",
        "year = int(year)\n",
        "month = int(month)"
      ],
      "execution_count": 16,
      "outputs": [
        {
          "name": "stdout",
          "output_type": "stream",
          "text": [
            "Please insert your year here:2004\n",
            "Please insert your month as a number here:4\n"
          ]
        }
      ]
    },
    {
      "cell_type": "code",
      "metadata": {
        "id": "6othVrRxYxIf"
      },
      "source": [
        "leap_year = False\n",
        "\n",
        "if year % 4 == 0 and year % 100 !=0:\n",
        "  leap_year = True\n",
        "elif year % 400 == 0:\n",
        "  leap_year = True"
      ],
      "execution_count": 17,
      "outputs": []
    },
    {
      "cell_type": "code",
      "metadata": {
        "colab": {
          "base_uri": "https://localhost:8080/"
        },
        "id": "-jlwNaZFb97u",
        "outputId": "f8aa6bb3-c306-4622-ae99-155e7956cec9"
      },
      "source": [
        "days_in_month = 31\n",
        "if month == 2:\n",
        "  days_in_month = 28 + leap_year\n",
        "else:\n",
        "  days_in_month = days_in_month - (month - 1) % 7 % 2\n",
        "\n",
        "print(\"The number of days in month is:\", days_in_month)"
      ],
      "execution_count": 18,
      "outputs": [
        {
          "output_type": "stream",
          "name": "stdout",
          "text": [
            "The number of days in month is: 30\n"
          ]
        }
      ]
    }
  ]
}